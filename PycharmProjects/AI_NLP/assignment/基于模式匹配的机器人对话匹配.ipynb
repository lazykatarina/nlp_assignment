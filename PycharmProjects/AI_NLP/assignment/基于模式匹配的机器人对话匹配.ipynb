{
 "cells": [
  {
   "cell_type": "markdown",
   "metadata": {},
   "source": [
    "# 基于模式匹配的机器人对话匹配"
   ]
  },
  {
   "cell_type": "markdown",
   "metadata": {},
   "source": [
    "rules:\n",
    "Pattern: (我想要A)\n",
    "Response: (如果你有 A，对你意味着什么呢？)\n",
    "\n",
    "Saying:\n",
    "Input: (我想要度假)\n",
    "Response: (如果你有度假，对你意味着什么呢？)"
   ]
  },
  {
   "cell_type": "code",
   "execution_count": 23,
   "metadata": {},
   "outputs": [],
   "source": [
    "def is_variable(pat):\n",
    "    \"return ?P 开头\"\n",
    "    return pat.startswith('?') and all(s.isalpha() for s in pat[1:]) \n",
    "\n",
    "def pat_match(pattern,saying):\n",
    "    \"define a  simple procedure 模式匹配\"\n",
    "    #递归的出口条件\n",
    "    if not pattern or not saying: return []\n",
    "    \n",
    "    if is_variable(pattern[0]):\n",
    "        return [(pattern[0],saying[0])] + pat_match(pattern[1:],saying[1:])\n",
    "    else:\n",
    "        if pattern[0] != saying[0]:\n",
    "            return []\n",
    "        else:\n",
    "            return pat_match(pattern[1:], saying[1:])\n",
    "\n",
    "def  pat_to_dict(patterns):\n",
    "    return {k:v for k,v in patterns}\n",
    "\n",
    "def subsitite(pat_dic,saying):\n",
    "    if not saying: return []\n",
    "    return [pat_dic.get(saying[0],saying[0])] + subsitite(pat_dic,saying[1:])\n",
    "\n",
    "\n",
    "    \n",
    "        \n"
   ]
  },
  {
   "cell_type": "code",
   "execution_count": 79,
   "metadata": {},
   "outputs": [],
   "source": [
    "got_patterns = pat_to_dict(pat_match('I want ?X and ?Y'.split(), 'I want iPhone and computer'.split()))"
   ]
  },
  {
   "cell_type": "code",
   "execution_count": 80,
   "metadata": {},
   "outputs": [
    {
     "data": {
      "text/plain": [
       "'why do you want iPhone and computer'"
      ]
     },
     "execution_count": 80,
     "metadata": {},
     "output_type": "execute_result"
    }
   ],
   "source": [
    "' '.join(subsitite(got_patterns,'why do you want ?X and ?Y'.split()))"
   ]
  },
  {
   "cell_type": "code",
   "execution_count": 26,
   "metadata": {},
   "outputs": [],
   "source": [
    "\n",
    "# try another example\n",
    "john_pat = pat_to_dict(pat_match('?P needs ?X'.split(), \"John needs vacation\".split()))"
   ]
  },
  {
   "cell_type": "code",
   "execution_count": 27,
   "metadata": {},
   "outputs": [
    {
     "data": {
      "text/plain": [
       "'why do John want vacation'"
      ]
     },
     "execution_count": 27,
     "metadata": {},
     "output_type": "execute_result"
    }
   ],
   "source": [
    "' '.join(subsitite(john_pat,'why do ?P want ?X'.split()))"
   ]
  },
  {
   "cell_type": "code",
   "execution_count": 90,
   "metadata": {},
   "outputs": [],
   "source": [
    "# now we define reponse_dictionary\n",
    "defined_patterns = {\n",
    "    \"I need ?X\": [\"Image you will get ?X soon\", \"Why do you need ?X ?\"], \n",
    "    \"My ?X told me something\": [\"Talk about more about your ?X\", \"How do you think about your ?X ?\"]\n",
    "}\n"
   ]
  },
  {
   "cell_type": "markdown",
   "metadata": {},
   "source": [
    "## 问题1"
   ]
  },
  {
   "cell_type": "markdown",
   "metadata": {},
   "source": [
    "#### 编写一个程序, ```get_response(saying, response_rules)```输入是一个字符串 + 我们定义的 rules，例如上边我们所写的 pattern， 输出是一个回答。"
   ]
  },
  {
   "cell_type": "code",
   "execution_count": 29,
   "metadata": {},
   "outputs": [],
   "source": [
    "import random"
   ]
  },
  {
   "cell_type": "code",
   "execution_count": 30,
   "metadata": {},
   "outputs": [],
   "source": [
    "# 问题1\n",
    "\n",
    "def get_response(saying, rules):\n",
    "    \"\"\"\" please implement the code, to get the response as followings:\n",
    "    \n",
    "    >>> get_response('I need iPhone') \n",
    "    >>> Image you will get iPhone soon\n",
    "    >>> get_response(\"My mother told me something\")\n",
    "    >>> Talk about more about your monther.\n",
    "    \"\"\"\n",
    "    for k,v in rules.items():\n",
    "        pat_mat = pat_match(k.split(), saying.split())\n",
    "        print(pat_mat)\n",
    "        if len(pat_mat) != 0:\n",
    "            parsed_rules = pat_to_dict(pat_mat)\n",
    "            response = ' '.join(subsitite(parsed_rules, random.choice(v).split()))\n",
    "            return response\n",
    "        else:\n",
    "            continue\n",
    "    return '抱歉，请您再讲一遍'"
   ]
  },
  {
   "cell_type": "code",
   "execution_count": 31,
   "metadata": {},
   "outputs": [
    {
     "name": "stdout",
     "output_type": "stream",
     "text": [
      "[('?X', 'HUAWEI')]\n"
     ]
    },
    {
     "data": {
      "text/plain": [
       "'Why do you need HUAWEI ?'"
      ]
     },
     "execution_count": 31,
     "metadata": {},
     "output_type": "execute_result"
    }
   ],
   "source": [
    "get_response('I need HUAWEI', defined_patterns)"
   ]
  },
  {
   "cell_type": "code",
   "execution_count": 32,
   "metadata": {},
   "outputs": [
    {
     "name": "stdout",
     "output_type": "stream",
     "text": [
      "[]\n",
      "[('?X', 'mother')]\n"
     ]
    },
    {
     "data": {
      "text/plain": [
       "'How do you think about your mother ?'"
      ]
     },
     "execution_count": 32,
     "metadata": {},
     "output_type": "execute_result"
    }
   ],
   "source": [
    "get_response('My mother told me something', defined_patterns)\n",
    "\n"
   ]
  },
  {
   "cell_type": "markdown",
   "metadata": {},
   "source": [
    "# Segment Match ?*...\n"
   ]
  },
  {
   "cell_type": "code",
   "execution_count": 195,
   "metadata": {},
   "outputs": [],
   "source": [
    "def is_segment(pattern):\n",
    "    return pattern.startswith('?*') and all(i.isalpha() for i in pattern[2:])\n",
    "\n",
    "fail = [True, None]\n",
    "\n",
    "def pat_match_segment(pattern, saying):\n",
    "    \n",
    "    if not pattern or not saying: return []\n",
    "   \n",
    "    if is_variable(pattern[0]):\n",
    "        return [(pattern[0],saying[0])] + pat_match(pattern[1:],saying[1:])\n",
    "    \n",
    "    elif is_segment(pattern[0]):\n",
    "       \n",
    "         if segment_match(pattern, saying) != fail:\n",
    "            match, i = segment_match(pattern, saying)\n",
    "            return [match] + pat_match_segment(pattern[1:], saying[i:])\n",
    "    \n",
    "    elif pattern[0] == saying[0]:\n",
    "        return pat_match_segment(pattern[1:], saying[1:])\n",
    "    else:\n",
    "        return fail\n",
    "    \n",
    "def segment_match(pattern, sayings):\n",
    "#      pat = pattern[0].replace('?*','?')\n",
    "    pat, rest = pattern[0].replace('?*','?'), pattern[1:]\n",
    "    if not rest:\n",
    "        return (pat,sayings), len(sayings)\n",
    "    \n",
    "    for i,say in enumerate(sayings):\n",
    "        #不仅第一个字母要相等，后面的都要一样才行，怎么判断后面的也要一样\n",
    "        if rest[0] == say :\n",
    "            return (pat, sayings[:i]), i\n",
    "        \n",
    "    return fail\n",
    "        "
   ]
  },
  {
   "cell_type": "code",
   "execution_count": 192,
   "metadata": {},
   "outputs": [
    {
     "data": {
      "text/plain": [
       "(('?P', ['My', 'dog', 'and', 'my']), 4)"
      ]
     },
     "execution_count": 192,
     "metadata": {},
     "output_type": "execute_result"
    }
   ],
   "source": [
    "segment_match('?*P is very good ?*Q'.split(), \"My dog and my is a pig\".split())"
   ]
  },
  {
   "cell_type": "code",
   "execution_count": 196,
   "metadata": {},
   "outputs": [
    {
     "data": {
      "text/plain": [
       "[('?P', ['My', 'dog', 'and', 'my', 'cat']), ('?Q', ['and', 'beautiful'])]"
      ]
     },
     "execution_count": 196,
     "metadata": {},
     "output_type": "execute_result"
    }
   ],
   "source": [
    "cat_pattern = pat_match_segment('?*P is very good ?*Q'.split(), \"My dog and my cat is very good and beautiful\".split())\n",
    "cat_pattern"
   ]
  },
  {
   "cell_type": "code",
   "execution_count": 197,
   "metadata": {},
   "outputs": [
    {
     "data": {
      "text/plain": [
       "'why do you think My dog and my cat is good and beautiful ?'"
      ]
     },
     "execution_count": 197,
     "metadata": {},
     "output_type": "execute_result"
    }
   ],
   "source": [
    "#替换\n",
    "def pat_seg_to_dict(parttern):\n",
    "    return {k: ' '.join(v) if isinstance(v,list) else v for k,v in parttern } \n",
    "\n",
    "' '.join(subsitite(pat_seg_to_dict(cat_pattern), 'why do you think ?P is good ?Q ?'.split()))"
   ]
  },
  {
   "cell_type": "code",
   "execution_count": 198,
   "metadata": {},
   "outputs": [],
   "source": [
    "pat_match_segment('?*x hello ?*y'.split(), 'Dad I want an iphone'.split())"
   ]
  },
  {
   "cell_type": "code",
   "execution_count": 199,
   "metadata": {},
   "outputs": [],
   "source": [
    "patterns_rlues = {\n",
    "    '?*x hello ?*y': ['How do you do', 'Please state your problem'],\n",
    "    '?*x I want ?*y': ['what would it mean if you got ?y', 'Why do you want ?y', 'Suppose you got ?y soon'],\n",
    "    '?*x if ?*y': ['Do you really think its likely that ?y', 'Do you wish that ?y', 'What do you think about ?y', 'Really-- if ?y'],\n",
    "    '?*x no ?*y': ['why not?', 'You are being a negative', 'Are you saying \\'No\\' just to be negative?'],\n",
    "    '?*x I was ?*y': ['Were you really ?y', 'Perhaps I already knew you were ?y', 'Why do you tell me you were ?y now?'],\n",
    "    '?*x I feel ?*y': ['Do you often feel ?y ?', 'What other feelings do you have?']\n",
    "}"
   ]
  },
  {
   "cell_type": "code",
   "execution_count": 205,
   "metadata": {},
   "outputs": [],
   "source": [
    "def get_seg_response(rules, saying):\n",
    "    \n",
    "    for k,v in rules.items():\n",
    "        match_pattern = pat_match_segment(k.split(), saying.split())\n",
    "        print(match_pattern)\n",
    "        if not match_pattern or match_pattern == fail or True in match_pattern:\n",
    "            continue\n",
    "        else:\n",
    "            return ' '.join(subsitite(pat_seg_to_dict(match_pattern), random.choice(v).split()))\n",
    "    return \"抱歉，请再讲一遍\"\n",
    "        \n",
    "    "
   ]
  },
  {
   "cell_type": "code",
   "execution_count": 206,
   "metadata": {},
   "outputs": [
    {
     "name": "stdout",
     "output_type": "stream",
     "text": [
      "None\n",
      "[('?x', ['Dad']), ('?y', ['an', 'iphone'])]\n"
     ]
    },
    {
     "data": {
      "text/plain": [
       "'Why do you want an iphone'"
      ]
     },
     "execution_count": 206,
     "metadata": {},
     "output_type": "execute_result"
    }
   ],
   "source": [
    "get_seg_response(patterns_rlues, 'Dad I want an iphone')"
   ]
  },
  {
   "cell_type": "code",
   "execution_count": 207,
   "metadata": {},
   "outputs": [
    {
     "name": "stdout",
     "output_type": "stream",
     "text": [
      "[('?x', ['Hi']), ('?y', ['to', 'you'])]\n"
     ]
    },
    {
     "data": {
      "text/plain": [
       "'Please state your problem'"
      ]
     },
     "execution_count": 207,
     "metadata": {},
     "output_type": "execute_result"
    }
   ],
   "source": [
    "get_seg_response(patterns_rlues, 'Hi hello to you')"
   ]
  },
  {
   "cell_type": "code",
   "execution_count": 244,
   "metadata": {},
   "outputs": [
    {
     "name": "stdout",
     "output_type": "stream",
     "text": [
      "None\n",
      "[('?x', ['Hi']), True, None]\n",
      "None\n",
      "None\n",
      "[('?x', ['Hi']), ('?y', ['Li'])]\n"
     ]
    },
    {
     "data": {
      "text/plain": [
       "'Were you really Li'"
      ]
     },
     "execution_count": 244,
     "metadata": {},
     "output_type": "execute_result"
    }
   ],
   "source": [
    "get_seg_response(patterns_rlues, 'Hi I was Li')"
   ]
  },
  {
   "cell_type": "code",
   "execution_count": 258,
   "metadata": {},
   "outputs": [
    {
     "name": "stdout",
     "output_type": "stream",
     "text": [
      "None\n",
      "('?x', ['baby'])\n",
      "[('?x', ['baby']), True, None]\n",
      "None\n",
      "None\n",
      "('?x', ['baby'])\n",
      "[('?x', ['baby']), True, None]\n",
      "('?x', ['baby'])\n",
      "('?y', ['hot'])\n",
      "[('?x', ['baby']), ('?y', ['hot'])]\n"
     ]
    },
    {
     "data": {
      "text/plain": [
       "'Do you often feel hot ?'"
      ]
     },
     "execution_count": 258,
     "metadata": {},
     "output_type": "execute_result"
    }
   ],
   "source": [
    "get_seg_response(patterns_rlues, 'baby I feel hot')"
   ]
  },
  {
   "cell_type": "markdown",
   "metadata": {},
   "source": [
    "## 问题2"
   ]
  },
  {
   "cell_type": "markdown",
   "metadata": {},
   "source": [
    "### 改写以上程序，将程序变成能够支持中文输入的模式。\n",
    "*提示*: 你可以需用用到 jieba 分词"
   ]
  },
  {
   "cell_type": "code",
   "execution_count": 250,
   "metadata": {},
   "outputs": [],
   "source": [
    "import jieba\n",
    "import random\n",
    "\n",
    "def cut(string):\n",
    "    return ' '.join(jieba.cut(string))\n",
    "\n",
    "fail = [True, None]\n",
    "\n",
    "def is_segment(pattern):\n",
    "    return pattern.startswith('?*') and all(i.isalpha() for i in pattern[2:])\n",
    "\n",
    "def is_variable(pat):\n",
    "    \"return ?P 开头\"\n",
    "    return pat.startswith('?') and all(s.isalpha() for s in pat[1:]) \n",
    "\n",
    "\n",
    "def pat_match_segment(pattern, saying):\n",
    "    \n",
    "    if not pattern or not saying: return []\n",
    "   \n",
    "    if is_variable(pattern[0]):\n",
    "        return [(pattern[0],saying[0])] + pat_match(pattern[1:],saying[1:])\n",
    "    \n",
    "    elif is_segment(pattern[0]):\n",
    "       \n",
    "         if segment_match(pattern, saying) != fail:\n",
    "            match, i = segment_match(pattern, saying)\n",
    "            print(match)\n",
    "            return [match] + pat_match_segment(pattern[1:], saying[i:])\n",
    "    \n",
    "    elif pattern[0] == saying[0]:\n",
    "        return pat_match_segment(pattern[1:], saying[1:])\n",
    "    else:\n",
    "        return fail\n",
    "    \n",
    "def segment_match(pattern, sayings):\n",
    "#      pat = pattern[0].replace('?*','?')\n",
    "    pat, rest = pattern[0].replace('?*','?'), pattern[1:]\n",
    "    if not rest:\n",
    "        return (pat,sayings), len(sayings)\n",
    "    \n",
    "    for i,say in enumerate(sayings):\n",
    "        #不仅第一个字母要相等，后面的都要一样才行，怎么判断后面的也要一样\n",
    "        if rest[0] == say:\n",
    "            return (pat, sayings[:i]), i\n",
    "        \n",
    "    return fail\n",
    "\n",
    "def pat_chinseg_dict(parttern):\n",
    "    return {k:''.join(v) if isinstance(v,list) else v for k,v in parttern}\n"
   ]
  },
  {
   "cell_type": "code",
   "execution_count": 273,
   "metadata": {},
   "outputs": [],
   "source": [
    "def subsitite(pat_dic,saying):\n",
    "    if not saying: return []\n",
    "    return [pat_dic.get(saying[0],saying[0])] + subsitite(pat_dic,saying[1:])\n",
    "\n",
    "def get_chinese_response(rules, saying):\n",
    "    \n",
    "    saying_token = cut(saying).split()\n",
    "#     response_list = []\n",
    "    for k,v in rules.items():\n",
    "        key = cut(k).replace('? * x','?*x').replace('? * y','?*y').replace('? * z','?*z').split()\n",
    "        \n",
    "        seg_match = pat_match_segment(key, saying_token)\n",
    "#         print(seg_match)\n",
    "        if not seg_match or seg_match == fail or True in seg_match:\n",
    "            continue\n",
    "        else:\n",
    "            seg_match_dict = pat_chinseg_dict(seg_match)\n",
    "            print(seg_match_dict)\n",
    "            response_token = cut(random.choice(v)).replace('? x','?x').replace('? y','?y').replace('? z','?*z').split()\n",
    "            return (''.join(subsitite(seg_match_dict, response_token)))\n",
    "            \n",
    "    return '抱歉'\n",
    "                \n",
    "            "
   ]
  },
  {
   "cell_type": "code",
   "execution_count": 89,
   "metadata": {},
   "outputs": [
    {
     "name": "stderr",
     "output_type": "stream",
     "text": [
      "Building prefix dict from the default dictionary ...\n",
      "Loading model from cache C:\\Users\\admin\\AppData\\Local\\Temp\\jieba.cache\n",
      "Loading model cost 0.983 seconds.\n",
      "Prefix dict has been built succesfully.\n"
     ]
    },
    {
     "data": {
      "text/plain": [
       "'这是 一个 测试'"
      ]
     },
     "execution_count": 89,
     "metadata": {},
     "output_type": "execute_result"
    }
   ],
   "source": [
    "cut('这是一个测试')"
   ]
  },
  {
   "cell_type": "code",
   "execution_count": 252,
   "metadata": {},
   "outputs": [],
   "source": [
    "chinese_rules={'?*x你好?*y': ['你好呀', '请告诉我你的问题'],\n",
    "    '?*x我想?*y': ['你觉得?y有什么意义呢？', '为什么你想?y', '你可以想想你很快就可以?y了'],\n",
    "    '?*x我想要?*y': ['?x想问你，你觉得?y有什么意义呢?', '为什么你想?y', '?x觉得... 你可以想想你很快就可以有?y了', '你看?x像?y不', '我看你就像?y'],\n",
    "    '?*x喜欢?*y': ['喜欢?y的哪里？', '?y有什么好的呢？', '你想要?y吗？'],\n",
    "    '?*x讨厌?*y': ['?y怎么会那么讨厌呢?', '讨厌?y的哪里？', '?y有什么不好呢？', '你不想要?y吗？'],\n",
    "    '?*xAI?*y': ['你为什么要提AI的事情？', '你为什么觉得AI要解决你的问题？'],\n",
    "    '?*x机器人?*y': ['你为什么要提机器人的事情？', '你为什么觉得机器人要解决你的问题？'],\n",
    "    '?*x对不起?*y': ['不用道歉', '你为什么觉得你需要道歉呢?'],\n",
    "    '?*x我记得?*y': ['你经常会想起这个吗？', '除了?y你还会想起什么吗？', '你为什么和我提起?y'],\n",
    "    '?*x如果?*y': ['你真的觉得?y会发生吗？', '你希望?y吗?', '真的吗？如果?y的话', '关于?y你怎么想？'],\n",
    "    '?*x我?*z梦见?*y':['真的吗? --- ?y', '你在醒着的时候，以前想象过?y吗？', '你以前梦见过?y吗'],\n",
    "    '?*x妈妈?*y': ['你家里除了?y还有谁?', '嗯嗯，多说一点和你家里有关系的', '她对你影响很大吗？'],\n",
    "    '?*x爸爸?*y': ['你家里除了?y还有谁?', '嗯嗯，多说一点和你家里有关系的', '他对你影响很大吗？', '每当你想起你爸爸的时候， 你还会想起其他的吗?'],\n",
    "    '?*x我愿意?*y': ['我可以帮你?y吗？', '你可以解释一下，为什么想?y'],\n",
    "    '?*x我很难过，因为?*y': ['我听到你这么说， 也很难过', '?y不应该让你这么难过的'],\n",
    "    '?*x难过?*y': ['我听到你这么说， 也很难过',\n",
    "                 '不应该让你这么难过的，你觉得你拥有什么，就会不难过?',\n",
    "                 '你觉得事情变成什么样，你就不难过了?'],\n",
    "    '?*x就像?*y': ['你觉得?x和?y有什么相似性？', '?x和?y真的有关系吗？', '怎么说？'],\n",
    "    '?*x和?*y都?*z': ['你觉得?z有什么问题吗?', '?z会对你有什么影响呢?'],\n",
    "    '?*x和?*y一样?*z': ['你觉得?z有什么问题吗?', '?z会对你有什么影响呢?'],\n",
    "    '?*x我是?*y': ['真的吗？', '?x想告诉你，或许我早就知道你是?y', '你为什么现在才告诉我你是?y'],\n",
    "    '?*x我是?*y吗': ['如果你是?y会怎么样呢？', '你觉得你是?y吗', '如果你是?y，那一位着什么?'],\n",
    "    '?*x你是?*y吗':  ['你为什么会对我是不是?y感兴趣?', '那你希望我是?y吗', '你要是喜欢， 我就会是?y'],\n",
    "    '?*x你是?*y' : ['为什么你觉得我是?y'],\n",
    "    '?*x因为?*y' : ['?y是真正的原因吗？', '你觉得会有其他原因吗?'],\n",
    "    '?*x我不能?*y': ['你或许现在就能?*y', '如果你能?*y,会怎样呢？'],\n",
    "    '?*x我觉得?*y': ['你经常这样感觉吗？', '除了到这个，你还有什么其他的感觉吗？'],\n",
    "    '?*x我?*y你?*z': ['其实很有可能我们互相?y'],\n",
    "    '?*x你为什么不?*y': ['你自己为什么不?y', '你觉得我不会?y', '等我心情好了，我就?y'],\n",
    "    '?*x好的?*y': ['好的', '你是一个很正能量的人'],\n",
    "    '?*x嗯嗯?*y': ['好的', '你是一个很正能量的人'],\n",
    "    '?*x不嘛?*y': ['为什么不？', '你有一点负能量', '你说 不，是想表达不想的意思吗？'],\n",
    "    '?*x不要?*y': ['为什么不？', '你有一点负能量', '你说 不，是想表达不想的意思吗？'],\n",
    "    '?*x有些人?*y': ['具体是哪些人呢?'],\n",
    "    '?*x有的人?*y': ['具体是哪些人呢?'],\n",
    "    '?*x某些人?*y': ['具体是哪些人呢?'],\n",
    "    '?*x每个人?*y': ['我确定不是人人都是', '你能想到一点特殊情况吗？', '例如谁？', '你看到的其实只是一小部分人'],\n",
    "    '?*x所有人?*y': ['我确定不是人人都是', '你能想到一点特殊情况吗？', '例如谁？', '你看到的其实只是一小部分人'],\n",
    "    '?*x总是?*y': ['你能想到一些其他情况吗?', '例如什么时候?', '你具体是说哪一次？', '真的---总是吗？'],\n",
    "    '?*x一直?*y': ['你能想到一些其他情况吗?', '例如什么时候?', '你具体是说哪一次？', '真的---总是吗？'],\n",
    "    '?*x或许?*y': ['你看起来不太确定'],\n",
    "    '?*x可能?*y': ['你看起来不太确定'],\n",
    "    '?*x他们是?*y吗？': ['你觉得他们可能不是?y？'],\n",
    "    '?*x': ['很有趣', '请继续', '我不太确定我很理解你说的, 能稍微详细解释一下吗?']}"
   ]
  },
  {
   "cell_type": "code",
   "execution_count": 266,
   "metadata": {},
   "outputs": [
    {
     "data": {
      "text/plain": [
       "'? * x 你 为什么 不 ? * y'"
      ]
     },
     "execution_count": 266,
     "metadata": {},
     "output_type": "execute_result"
    }
   ],
   "source": [
    "cut('?*x你为什么不?*y')"
   ]
  },
  {
   "cell_type": "code",
   "execution_count": 267,
   "metadata": {},
   "outputs": [
    {
     "data": {
      "text/plain": [
       "'小红 ， 你 为什么 不去 游泳'"
      ]
     },
     "execution_count": 267,
     "metadata": {},
     "output_type": "execute_result"
    }
   ],
   "source": [
    "cut('小红，你为什么不去游泳')"
   ]
  },
  {
   "cell_type": "code",
   "execution_count": 274,
   "metadata": {},
   "outputs": [
    {
     "name": "stdout",
     "output_type": "stream",
     "text": [
      "('?x', ['小红', '，'])\n",
      "('?x', ['小红', '，'])\n",
      "('?x', ['小红', '，'])\n",
      "('?y', ['游泳'])\n",
      "{'?x': '小红，', '?y': '游泳'}\n"
     ]
    },
    {
     "data": {
      "text/plain": [
       "'等我心情好了，我就游泳'"
      ]
     },
     "execution_count": 274,
     "metadata": {},
     "output_type": "execute_result"
    }
   ],
   "source": [
    "get_chinese_response(chinese_rules, '小红，你为什么不游泳')\n",
    "        "
   ]
  },
  {
   "cell_type": "code",
   "execution_count": 275,
   "metadata": {},
   "outputs": [
    {
     "name": "stdout",
     "output_type": "stream",
     "text": [
      "('?x', [])\n",
      "('?x', [])\n",
      "('?x', [])\n",
      "('?x', ['你', '似乎'])\n",
      "('?y', ['这样'])\n",
      "{'?x': '你似乎', '?y': '这样'}\n"
     ]
    },
    {
     "data": {
      "text/plain": [
       "'例如什么时候?'"
      ]
     },
     "execution_count": 275,
     "metadata": {},
     "output_type": "execute_result"
    }
   ],
   "source": [
    "get_chinese_response(chinese_rules, '你似乎总是这样')"
   ]
  },
  {
   "cell_type": "code",
   "execution_count": 276,
   "metadata": {},
   "outputs": [
    {
     "name": "stdout",
     "output_type": "stream",
     "text": [
      "('?x', ['忧愁'])\n",
      "('?y', ['一江春水向东流'])\n",
      "{'?x': '忧愁', '?y': '一江春水向东流'}\n"
     ]
    },
    {
     "data": {
      "text/plain": [
       "'忧愁和一江春水向东流真的有关系吗？'"
      ]
     },
     "execution_count": 276,
     "metadata": {},
     "output_type": "execute_result"
    }
   ],
   "source": [
    "get_chinese_response(chinese_rules, '忧愁就像一江春水向东流')"
   ]
  },
  {
   "cell_type": "code",
   "execution_count": null,
   "metadata": {},
   "outputs": [],
   "source": []
  }
 ],
 "metadata": {
  "kernelspec": {
   "display_name": "Python 3",
   "language": "python",
   "name": "python3"
  },
  "language_info": {
   "codemirror_mode": {
    "name": "ipython",
    "version": 3
   },
   "file_extension": ".py",
   "mimetype": "text/x-python",
   "name": "python",
   "nbconvert_exporter": "python",
   "pygments_lexer": "ipython3",
   "version": "3.6.5"
  }
 },
 "nbformat": 4,
 "nbformat_minor": 2
}
